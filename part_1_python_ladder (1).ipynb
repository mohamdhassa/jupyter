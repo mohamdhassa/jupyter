{
 "cells": [
  {
   "cell_type": "markdown",
   "metadata": {
    "id": "dlEfOPNJar_j"
   },
   "source": [
    "<img src=\"http://imgur.com/1ZcRyrc.png\" style=\"float: left; margin: 20px; height: 55px\" />\n",
    "\n",
    "# Python Ladder Challenges - Notebook 1\n",
    "\n",
    "_Author:_ Tim Book"
   ]
  },
  {
   "cell_type": "markdown",
   "metadata": {
    "id": "0qe3a1eear_l"
   },
   "source": [
    "# Climb the Ladder!\n",
    "Our class moves quickly! Sometimes, it feels like we make leaps in logic that are a bit too big. Learn Python _slowly_, by doing many, many examples. Problems in this notebook start out easy and progressively get harder, so that the next rung of the Python ladder is always within reach."
   ]
  },
  {
   "cell_type": "markdown",
   "metadata": {
    "id": "rdz8COKxar_l"
   },
   "source": [
    "# Section I: Numbers, variables, and math."
   ]
  },
  {
   "cell_type": "markdown",
   "metadata": {
    "id": "KDNd3u0tar_l"
   },
   "source": [
    "1) What is 123456789 times 987654321?"
   ]
  },
  {
   "cell_type": "code",
   "execution_count": 75,
   "metadata": {
    "id": "mAQqo2-kar_l"
   },
   "outputs": [
    {
     "name": "stdout",
     "output_type": "stream",
     "text": [
      "121932631112635269\n"
     ]
    }
   ],
   "source": [
    "print(123456789*987654321)"
   ]
  },
  {
   "cell_type": "markdown",
   "metadata": {
    "id": "iSOPt7xLar_m"
   },
   "source": [
    "2) Create a variable called `mass` that is equal to 100."
   ]
  },
  {
   "cell_type": "code",
   "execution_count": 76,
   "metadata": {
    "id": "9lnfmQGHar_m"
   },
   "outputs": [],
   "source": [
    "mass=100  #kg"
   ]
  },
  {
   "cell_type": "markdown",
   "metadata": {
    "id": "7aK6mZmNar_m"
   },
   "source": [
    "3) Create a variable called `velocity` that is equal to 5."
   ]
  },
  {
   "cell_type": "code",
   "execution_count": 77,
   "metadata": {
    "id": "UbyGwtD9ar_m"
   },
   "outputs": [],
   "source": [
    "velocity=5 # m/s"
   ]
  },
  {
   "cell_type": "markdown",
   "metadata": {
    "id": "GTIguwoNar_n"
   },
   "source": [
    "4) In physics, the momentum an object is exerting is equal to its mass times its velocity. That is, $p = mv$. Use the variables you defined above to compute this object's momentum."
   ]
  },
  {
   "cell_type": "code",
   "execution_count": 78,
   "metadata": {
    "id": "S43bnk38ar_n"
   },
   "outputs": [
    {
     "name": "stdout",
     "output_type": "stream",
     "text": [
      "500\n"
     ]
    }
   ],
   "source": [
    "momentum = mass * velocity\n",
    "\n",
    "print(momentum)"
   ]
  },
  {
   "cell_type": "markdown",
   "metadata": {
    "id": "pA23-BGvar_n"
   },
   "source": [
    "5) The kinetic energy of an object is half its mass times the square of its velocity. That is, $K = \\frac{1}{2}mv^2$. Compute the kinetic energy for this object using the variables you've already created."
   ]
  },
  {
   "cell_type": "code",
   "execution_count": 11,
   "metadata": {
    "id": "JKcSAM5gar_n"
   },
   "outputs": [
    {
     "name": "stdout",
     "output_type": "stream",
     "text": [
      "1250.0\n"
     ]
    }
   ],
   "source": [
    "kinetic_energy = 0.5 * mass * velocity**2\n",
    "\n",
    "print(kinetic_energy)"
   ]
  },
  {
   "cell_type": "markdown",
   "metadata": {
    "id": "izdJ99KGar_o"
   },
   "source": [
    "### How much icing do you need?\n",
    "In the next few exercises, our goal will be to figure out how much icing we will need to perfectly cover a giant doughnut. The doughnut features a hole (unfortunately no jelly filling), and a few large sprinkles. We only need to find the area of the red region in this shape.\n",
    "\n",
    "![](imgs/donut.png)"
   ]
  },
  {
   "cell_type": "markdown",
   "metadata": {
    "id": "KPFNRGvdar_o"
   },
   "source": [
    "6) Create a variable called `pi` that is equal to 3.141"
   ]
  },
  {
   "cell_type": "code",
   "execution_count": 56,
   "metadata": {
    "id": "nHmcfnVnar_o"
   },
   "outputs": [],
   "source": [
    "pi =3.141"
   ]
  },
  {
   "cell_type": "markdown",
   "metadata": {
    "id": "fY35wx8Var_o"
   },
   "source": [
    "7) The radius of the largest circle is 13.425. The radius of the smaller circle is 4.792. The sprinkles are right triangles with side length 3.28. Create the variables `R`, `r`, and `s` that represent these values."
   ]
  },
  {
   "cell_type": "code",
   "execution_count": 57,
   "metadata": {
    "id": "RMmssm5uar_p"
   },
   "outputs": [],
   "source": [
    "R = 13.425 # radius of the largest circle\n",
    "r = 4.792 # radius of the smaller circle\n",
    "s = 3.28 # side length of the sprinkle right triangles"
   ]
  },
  {
   "cell_type": "markdown",
   "metadata": {
    "id": "bdFYFQCmar_p"
   },
   "source": [
    "8) Find the area of the larger circle (the whole doughnut, including the hole). Call this variable `area_big_circle`.\n",
    "\n",
    "* _Hint:_ The area of a circle with radius $r$ is $A = \\pi r^2$."
   ]
  },
  {
   "cell_type": "code",
   "execution_count": 58,
   "metadata": {
    "id": "KFVhJSRmar_p"
   },
   "outputs": [
    {
     "name": "stdout",
     "output_type": "stream",
     "text": [
      "566.1043931250001\n"
     ]
    }
   ],
   "source": [
    "area_big_circle = pi * R**2\n",
    "\n",
    "print(area_big_circle)"
   ]
  },
  {
   "cell_type": "markdown",
   "metadata": {
    "id": "l-6T6Eykar_p"
   },
   "source": [
    "9) Find the area of the smaller circle (the hole). Call this variable `area_small_circle`."
   ]
  },
  {
   "cell_type": "code",
   "execution_count": 79,
   "metadata": {
    "id": "eQGrBUxxar_p"
   },
   "outputs": [
    {
     "name": "stdout",
     "output_type": "stream",
     "text": [
      "7212.7612224\n"
     ]
    }
   ],
   "source": [
    "area_small_circle = pi * r**2\n",
    "\n",
    "print(area_small_circle*100)"
   ]
  },
  {
   "cell_type": "code",
   "execution_count": 5,
   "metadata": {
    "id": "TgjzVpavar_p"
   },
   "outputs": [],
   "source": [
    "#10) Find the area of one triangle (a sprinkle), where each sprinkle has a base and height of length `s`. Call this variable `area_sprinkle`.\n",
    "\n",
    "#* _Hint:_ The area of a triangle with base $b$ and height $h$ is $A = \\frac{1}{2}bh$."
   ]
  },
  {
   "cell_type": "code",
   "execution_count": 80,
   "metadata": {
    "id": "YiuB3S0Jar_p"
   },
   "outputs": [
    {
     "name": "stdout",
     "output_type": "stream",
     "text": [
      "537.92\n"
     ]
    }
   ],
   "source": [
    "area_sprinkle = 0.5 * s * s\n",
    "print(area_sprinkle*100)"
   ]
  },
  {
   "cell_type": "markdown",
   "metadata": {
    "id": "_Rgqp64mar_q"
   },
   "source": [
    "11) Using the three values you calculated above, find the area of the shaded region (i.e., how much icing will you need?). Save the result in a variable called `area_donut`."
   ]
  },
  {
   "cell_type": "code",
   "execution_count": 61,
   "metadata": {
    "id": "xDSrI7j9ar_q"
   },
   "outputs": [
    {
     "name": "stdout",
     "output_type": "stream",
     "text": [
      "488.5975809010001\n"
     ]
    }
   ],
   "source": [
    "area_donut = area_big_circle - area_small_circle - area_sprinkle\n",
    "\n",
    "print(area_donut)"
   ]
  },
  {
   "cell_type": "markdown",
   "metadata": {
    "id": "yXUVo_Hear_q"
   },
   "source": [
    "# Section II: Strings"
   ]
  },
  {
   "cell_type": "markdown",
   "metadata": {
    "id": "rLjgSS7War_q"
   },
   "source": [
    "12) Create a variable called `name` that is equal to your name."
   ]
  },
  {
   "cell_type": "code",
   "execution_count": 62,
   "metadata": {
    "id": "GFjhykNaar_q"
   },
   "outputs": [],
   "source": [
    "name= \"Mohamed\""
   ]
  },
  {
   "cell_type": "code",
   "execution_count": null,
   "metadata": {
    "id": "I5Dr4Hpoar_q"
   },
   "outputs": [],
   "source": [
    "#13) By adding strings together, introduce yourself in a string. For example `\"Hello, my name is Tim!\"`. You may use f-strings if you know what they are and prefer to use them."
   ]
  },
  {
   "cell_type": "code",
   "execution_count": 63,
   "metadata": {
    "id": "tpg7eCsgar_q"
   },
   "outputs": [
    {
     "name": "stdout",
     "output_type": "stream",
     "text": [
      "hello my name is name\n"
     ]
    }
   ],
   "source": [
    "introduction = \"name\"\n",
    "\n",
    "print(f\"hello my name is {introduction}\")"
   ]
  },
  {
   "cell_type": "markdown",
   "metadata": {
    "id": "K8njlbKzar_q"
   },
   "source": [
    "14) Define the string `fact` to be `\"Python programming is fun.\"`"
   ]
  },
  {
   "cell_type": "code",
   "execution_count": 64,
   "metadata": {
    "id": "W6WL6sTqar_q"
   },
   "outputs": [],
   "source": [
    "fact=\"Python programming is fun.\""
   ]
  },
  {
   "cell_type": "markdown",
   "metadata": {
    "id": "_95e6iLBar_r"
   },
   "source": [
    "15) Index `fact` in order to get the \"o\" in \"Python\"."
   ]
  },
  {
   "cell_type": "code",
   "execution_count": 65,
   "metadata": {
    "id": "C6ShxyfGar_r"
   },
   "outputs": [
    {
     "name": "stdout",
     "output_type": "stream",
     "text": [
      "The index of the 'o' in 'Python' is: 4\n"
     ]
    }
   ],
   "source": [
    "o_index = fact.index(\"o\")\n",
    "\n",
    "print(f\"The index of the 'o' in 'Python' is: {o_index}\")"
   ]
  },
  {
   "cell_type": "markdown",
   "metadata": {
    "id": "S3JThhPUar_r"
   },
   "source": [
    "16) Index `fact` in order to get the \"u\" in \"fun\" using a negative index."
   ]
  },
  {
   "cell_type": "code",
   "execution_count": 66,
   "metadata": {
    "id": "wYJsrXNlar_r"
   },
   "outputs": [
    {
     "name": "stdout",
     "output_type": "stream",
     "text": [
      "The index of the 'u' in 'fun' is:23\n"
     ]
    }
   ],
   "source": [
    "u_index = fact.index(\"u\",-1*len(fact))\n",
    "\n",
    "print(f\"The index of the 'u' in 'fun' is:{u_index}\")"
   ]
  },
  {
   "cell_type": "markdown",
   "metadata": {
    "id": "eMbgtEJEar_r"
   },
   "source": [
    "17) Slice `fact` in order to get the word \"programming\"."
   ]
  },
  {
   "cell_type": "code",
   "execution_count": 67,
   "metadata": {
    "id": "-veq1N-Far_r"
   },
   "outputs": [
    {
     "name": "stdout",
     "output_type": "stream",
     "text": [
      "The word is: programming\n"
     ]
    }
   ],
   "source": [
    "programming = fact.split()[1]\n",
    "print(f\"The word is: {programming}\")\n"
   ]
  },
  {
   "cell_type": "markdown",
   "metadata": {
    "id": "Cj4Jj6U3ar_s"
   },
   "source": [
    "18) Uppercase `fact`."
   ]
  },
  {
   "cell_type": "code",
   "execution_count": 81,
   "metadata": {
    "id": "RkJioV3qar_s"
   },
   "outputs": [
    {
     "name": "stdout",
     "output_type": "stream",
     "text": [
      "The uppercase version is: PYTHON PROGRAMMING IS FUN.\n"
     ]
    }
   ],
   "source": [
    "uppercase_fact = fact.upper()\n",
    "print(f\"The uppercase version is: {uppercase_fact}\")"
   ]
  },
  {
   "cell_type": "markdown",
   "metadata": {
    "id": "-ujQuebPar_t"
   },
   "source": [
    "19) Replace the period at the end of `fact` with an exclamation point."
   ]
  },
  {
   "cell_type": "code",
   "execution_count": 82,
   "metadata": {
    "id": "tTMddqcqar_t"
   },
   "outputs": [
    {
     "name": "stdout",
     "output_type": "stream",
     "text": [
      "The updated fact is: Python programming is fun!\n"
     ]
    }
   ],
   "source": [
    "updated_fact = fact.replace(\".\", \"!\")\n",
    "print(f\"The updated fact is: {updated_fact}\")"
   ]
  },
  {
   "cell_type": "markdown",
   "metadata": {
    "id": "sxLDX__Sar_t"
   },
   "source": [
    "20) Use `.split()` to get the second word of this string. Was this easier than one of the problems above?"
   ]
  },
  {
   "cell_type": "code",
   "execution_count": 70,
   "metadata": {
    "id": "_3lCPiGSar_t"
   },
   "outputs": [
    {
     "name": "stdout",
     "output_type": "stream",
     "text": [
      "The second word is: programming\n"
     ]
    }
   ],
   "source": [
    "second_word = fact.split()[1]\n",
    "\n",
    "print(f\"The second word is: {second_word}\")"
   ]
  },
  {
   "cell_type": "code",
   "execution_count": 32,
   "metadata": {
    "id": "vBD8o0Kiar_t"
   },
   "outputs": [],
   "source": [
    "#21) Reverse `fact`."
   ]
  },
  {
   "cell_type": "code",
   "execution_count": 83,
   "metadata": {
    "id": "alB9_4OBar_t"
   },
   "outputs": [
    {
     "name": "stdout",
     "output_type": "stream",
     "text": [
      "The reverse fact is: .nuf si gnimmargorp nohtyP\n"
     ]
    }
   ],
   "source": [
    "\n",
    "reverse_fact = fact[::-1]\n",
    "print(f\"The reverse fact is: {reverse_fact}\")"
   ]
  },
  {
   "cell_type": "markdown",
   "metadata": {
    "id": "LObT_cQ5ar_t"
   },
   "source": [
    "22) Does `fact` contain the letter `y`? To find this answer, use the `in` keyword."
   ]
  },
  {
   "cell_type": "code",
   "execution_count": 84,
   "metadata": {
    "id": "UEgwM9vRar_u"
   },
   "outputs": [
    {
     "name": "stdout",
     "output_type": "stream",
     "text": [
      "The fact contains the letter 'y'.\n"
     ]
    }
   ],
   "source": [
    "if 'y' in fact:\n",
    "    print(\"The fact contains the letter 'y'.\")\n",
    "else:\n",
    "    print(\"The fact does not contain the letter 'y'.\")"
   ]
  },
  {
   "cell_type": "markdown",
   "metadata": {
    "id": "rG0RmMHIar_u"
   },
   "source": [
    "23) How many `o`s does `fact` have?"
   ]
  },
  {
   "cell_type": "code",
   "execution_count": 74,
   "metadata": {
    "id": "FtcTyt5Jar_u"
   },
   "outputs": [
    {
     "name": "stdout",
     "output_type": "stream",
     "text": [
      "The fact contains 2 'o' characters.\n"
     ]
    }
   ],
   "source": [
    "count_o = fact.count('o')\n",
    "\n",
    "print(f\"The fact contains {count_o} 'o' characters.\")"
   ]
  },
  {
   "cell_type": "markdown",
   "metadata": {
    "id": "RGgs0OfEar_u"
   },
   "source": [
    "24) Replace all the `o`s in `fact` with an underscore (do not redefine `fact`)."
   ]
  },
  {
   "cell_type": "code",
   "execution_count": 128,
   "metadata": {
    "id": "iflrn9GXar_u"
   },
   "outputs": [
    {
     "name": "stdout",
     "output_type": "stream",
     "text": [
      "The updated fact is: Pyth_n pr_gramming is fun.\n"
     ]
    }
   ],
   "source": [
    "updated_fact = fact.replace('o', '_')\n",
    "\n",
    "print(f\"The updated fact is: {updated_fact}\")"
   ]
  },
  {
   "cell_type": "markdown",
   "metadata": {
    "id": "scYNtwPSar_u"
   },
   "source": [
    "# Section III: Lists"
   ]
  },
  {
   "cell_type": "markdown",
   "metadata": {
    "id": "oTiONjjQar_u"
   },
   "source": [
    "25) Create a list `friends` of your three best friends, `\"Alice\"`, `\"Bob\"`, and `\"Charlie\"`."
   ]
  },
  {
   "cell_type": "code",
   "execution_count": 91,
   "metadata": {
    "id": "e4Is0S-qar_v"
   },
   "outputs": [],
   "source": [
    "friends = [\"Alice\", \"Bob\", \"Charlie\"]"
   ]
  },
  {
   "cell_type": "raw",
   "metadata": {
    "id": "mZQAQZW1ar_v"
   },
   "source": [
    "26) Find the length of `friends`."
   ]
  },
  {
   "cell_type": "code",
   "execution_count": 85,
   "metadata": {
    "id": "nqGiAxLiar_v"
   },
   "outputs": [
    {
     "name": "stdout",
     "output_type": "stream",
     "text": [
      "The length of the friends list is: 3\n"
     ]
    }
   ],
   "source": [
    "length_of_friends = len(friends)\n",
    "print(f\"The length of the friends list is: {length_of_friends}\")"
   ]
  },
  {
   "cell_type": "markdown",
   "metadata": {
    "id": "g1pD5Nw9ar_v"
   },
   "source": [
    "27) Add your new friend `\"Debbie\"` to your list of `friends`."
   ]
  },
  {
   "cell_type": "code",
   "execution_count": 89,
   "metadata": {
    "id": "pLCwWEC3ar_v"
   },
   "outputs": [
    {
     "name": "stdout",
     "output_type": "stream",
     "text": [
      "['Alice', 'Bob', 'Debbie', 'Debbie', 'Debbie']\n"
     ]
    }
   ],
   "source": [
    "friends.append(\"Debbie\")\n",
    "\n",
    "print(friends)"
   ]
  },
  {
   "cell_type": "markdown",
   "metadata": {
    "id": "__c5XmZHar_v"
   },
   "source": [
    "28) Charlie has no-showed to your piano recital. Remove him from your `friends`."
   ]
  },
  {
   "cell_type": "code",
   "execution_count": 92,
   "metadata": {
    "id": "wvnVr5Wtar_w"
   },
   "outputs": [
    {
     "name": "stdout",
     "output_type": "stream",
     "text": [
      "['Alice', 'Bob']\n"
     ]
    }
   ],
   "source": [
    "friends.remove(\"Charlie\")\n",
    "print(friends)"
   ]
  },
  {
   "cell_type": "markdown",
   "metadata": {
    "id": "tO52L6B-ar_w"
   },
   "source": [
    "29) Using the `.join()` method, join `friends` to look like this _exactly_: `\"Alice & Bob & Debbie\"`"
   ]
  },
  {
   "cell_type": "code",
   "execution_count": 48,
   "metadata": {
    "id": "ZIzCciUKar_w"
   },
   "outputs": [
    {
     "name": "stdout",
     "output_type": "stream",
     "text": [
      "Alice&Bob&Debbie\n"
     ]
    }
   ],
   "source": [
    "\n",
    "friends_joined = \"&\".join(friends)\n",
    "print(friends_joined)"
   ]
  },
  {
   "cell_type": "markdown",
   "metadata": {
    "id": "Syy3D3Mrar_w"
   },
   "source": [
    "30) What is the length of `[]`? What about `[[]]`? Why?"
   ]
  },
  {
   "cell_type": "code",
   "execution_count": 95,
   "metadata": {
    "id": "3i-yAX49ar_w"
   },
   "outputs": [
    {
     "name": "stdout",
     "output_type": "stream",
     "text": [
      "0\n"
     ]
    }
   ],
   "source": [
    "empty_list = []\n",
    "print(len(empty_list))"
   ]
  },
  {
   "cell_type": "code",
   "execution_count": 98,
   "metadata": {},
   "outputs": [
    {
     "name": "stdout",
     "output_type": "stream",
     "text": [
      "1\n"
     ]
    }
   ],
   "source": [
    "list_with_empty_list = [[]]\n",
    "print(len(list_with_empty_list))"
   ]
  },
  {
   "cell_type": "code",
   "execution_count": null,
   "metadata": {},
   "outputs": [],
   "source": [
    "#The length of the list [[]] is 1, because it contains a single element, which is the empty list []."
   ]
  },
  {
   "cell_type": "markdown",
   "metadata": {
    "id": "Xf0_tLzQar_w"
   },
   "source": [
    "For the next few problems, we'll use this list:"
   ]
  },
  {
   "cell_type": "code",
   "execution_count": 99,
   "metadata": {
    "id": "QXg9f9g4ar_w"
   },
   "outputs": [],
   "source": [
    "nested_deep = [1, [2, 3], 4, [5, [6, 7, [8]]]]"
   ]
  },
  {
   "cell_type": "markdown",
   "metadata": {
    "id": "Ghs3iuUsar_w"
   },
   "source": [
    "31) What is the length of `nested_deep`?"
   ]
  },
  {
   "cell_type": "code",
   "execution_count": 100,
   "metadata": {
    "id": "l1xXIIUgar_x"
   },
   "outputs": [
    {
     "name": "stdout",
     "output_type": "stream",
     "text": [
      "4\n"
     ]
    }
   ],
   "source": [
    "nested_deep = [1, [2, 3], 4, [5, [6, 7, [8]]]]\n",
    "print(len(nested_deep))"
   ]
  },
  {
   "cell_type": "markdown",
   "metadata": {
    "id": "Xntuh_Hdar_x"
   },
   "source": [
    "32) Index `nested_deep` to get the 5."
   ]
  },
  {
   "cell_type": "code",
   "execution_count": 101,
   "metadata": {
    "id": "9Vk9ZTABar_x"
   },
   "outputs": [
    {
     "name": "stdout",
     "output_type": "stream",
     "text": [
      "5\n"
     ]
    }
   ],
   "source": [
    "nested_deep = [1, [2, 3], 4, [5, [6, 7, [8]]]]\n",
    "print(nested_deep[3][0])"
   ]
  },
  {
   "cell_type": "markdown",
   "metadata": {
    "id": "4FbOy3bsar_x"
   },
   "source": [
    "33) Index `nested_deep` to get the 8.\n",
    "\n",
    "* _Hint:_ If your answer looks like `[8]`, that's not the correct answer!"
   ]
  },
  {
   "cell_type": "code",
   "execution_count": 102,
   "metadata": {
    "id": "pTaU_pg9ar_x"
   },
   "outputs": [
    {
     "name": "stdout",
     "output_type": "stream",
     "text": [
      "8\n"
     ]
    }
   ],
   "source": [
    "nested_deep = [1, [2, 3], 4, [5, [6, 7, [8]]]]\n",
    "print(nested_deep[3][1][2][0])"
   ]
  },
  {
   "cell_type": "code",
   "execution_count": null,
   "metadata": {},
   "outputs": [],
   "source": []
  }
 ],
 "metadata": {
  "colab": {
   "collapsed_sections": [
    "rdz8COKxar_l",
    "yXUVo_Hear_q"
   ],
   "provenance": []
  },
  "kernelspec": {
   "display_name": "Python 3 (ipykernel)",
   "language": "python",
   "name": "python3"
  },
  "language_info": {
   "codemirror_mode": {
    "name": "ipython",
    "version": 3
   },
   "file_extension": ".py",
   "mimetype": "text/x-python",
   "name": "python",
   "nbconvert_exporter": "python",
   "pygments_lexer": "ipython3",
   "version": "3.12.4"
  }
 },
 "nbformat": 4,
 "nbformat_minor": 4
}
