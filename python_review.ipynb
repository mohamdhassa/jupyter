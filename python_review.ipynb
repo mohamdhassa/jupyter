{
 "cells": [
  {
   "cell_type": "markdown",
   "id": "a8b56137",
   "metadata": {},
   "source": [
    "# Python Basics Revision"
   ]
  },
  {
   "cell_type": "code",
   "execution_count": 8,
   "id": "11a079ba",
   "metadata": {},
   "outputs": [
    {
     "name": "stdout",
     "output_type": "stream",
     "text": [
      "5\n",
      "0.4\n",
      "g\n",
      "True\n",
      "2.0\n",
      "12.5\n",
      "hello g\n"
     ]
    }
   ],
   "source": [
    "#Question 1\n",
    "#Create variables of different types (integers, floats, strings, booleans) and print their values.\n",
    "var_int = 5\n",
    "print(var_int)\n",
    "\n",
    "var_float = 0.4\n",
    "print(var_float)\n",
    "\n",
    "var_string = \"g\"\n",
    "print(var_string)\n",
    "\n",
    "var_boolen = True\n",
    "print(var_boolen)\n",
    "#Perform basic operations using the variables above:\n",
    "# A. Multiply the int by float\n",
    "\n",
    "prudoct=var_int * var_float\n",
    "print(prudoct)\n",
    "\n",
    "\n",
    "#B. Divide the int by 2\n",
    "prudoct=var_int / var_float\n",
    "print(prudoct)\n",
    "#C. Concatenate \"Hello\" with the string\n",
    "print(f\"hello {var_string}\")\n"
   ]
  },
  {
   "cell_type": "code",
   "execution_count": 35,
   "id": "e92de761",
   "metadata": {},
   "outputs": [
    {
     "name": "stdout",
     "output_type": "stream",
     "text": [
      "['James', 'Lily', 'Noah', 'Olivia', 'Sophia', 'Eleanor']\n",
      "['James', 'mia', 'Lily', 'Olivia', 'Sophia', 'Eleanor']\n"
     ]
    }
   ],
   "source": [
    "#Question 2\n",
    "#Using the following list solve the questions below:\n",
    "candidates = [\"James\", \"Lily\", \"Noah\", \"Olivia\", \"Sophia\"]\n",
    "\n",
    "# A. Add a new applicant, 'Eleanor', to the end of the list.\n",
    "candidates.append(\"Eleanor\")\n",
    "print(candidates)\n",
    " \n",
    "# B. Correct a typo in the name 'James' to 'Jamie'.\n",
    "candidates[0] = \"James\"\n",
    "\n",
    "# C. Insert a candidate, 'Gavin', at the very front of the list.\n",
    "candidates.insert(0,\"Gavin\")\n",
    "# D. Use a method to find and print the index of 'Lily' in the list.\n",
    "candidates.index(\"Lily\")\n",
    "# E. Remove 'Noah' from the list as they have withdrawn their application.\n",
    "candidates.remove(\"Noah\")\n",
    "# F. Use a method to remove the first candidate from the list, who has been accepted elsewhere.\n",
    "candidates.pop(0)\n",
    "# G. Place 'Mia' at index 2 using an appropriate list method.\n",
    "candidates.insert(1,\"mia\")\n",
    "# H. Print the final list of candidates after all modifications.\n",
    "print(candidates)"
   ]
  },
  {
   "cell_type": "code",
   "execution_count": 75,
   "id": "f93a8939",
   "metadata": {},
   "outputs": [
    {
     "name": "stdout",
     "output_type": "stream",
     "text": [
      "Toyota\n",
      "{'make': 'Toyota', 'model': 'Camry', 'year': 2023, 'mileage': 18000}\n",
      "Drive the 2023 Toyota Toyota with 18000 miles\n",
      "the mpg for the camer ce is 32\n",
      "{'make': 'Toyota', 'model': 'camer ce', 'year': 2023, 'mileage': 18000, 'map': 32, 'tate': 'sold'}\n"
     ]
    }
   ],
   "source": [
    "#Question 3\n",
    "# Use the car dictionary for the following challenges\n",
    "car = {\"make\": \"Toyota\", \"model\": \"Camry\", \"year\": 2023}\n",
    "\n",
    "# A. Print the make of the car\n",
    "print(car[\"make\"])\n",
    "\n",
    "# B. The car needs a mileage property. Add a mileage property equal to 15000\n",
    "\n",
    "car[\"mileage\"] = 15000\n",
    "\n",
    "\n",
    "car.update({\"mileage\":18000})\n",
    "print(car)\n",
    "# C. Our marketing team wants a tagline: \"Drive the 2023 Toyota Camry with 15000 miles.\"\n",
    "print(f\"Drive the {car[\"year\"]} Toyota {car[\"make\"]} with {car[\"mileage\"]} miles\")\n",
    "#    Print that tagline by accessing the values from the dictionary: do NOT \"hard-code\" the string!\n",
    "\n",
    "# D. We've received feedback that the car is underpowered. Let's update the model to \"Camry SE\"\n",
    "\n",
    "car.update({\"model\":\"camer ce\"})\n",
    "# E. Customers are asking about the fuel efficiency. Add a mpg property equal to 32\n",
    "car[\"map\"] = 32\n",
    "# F. We want to highlight the fuel efficiency. Print a message explaining the miles per gallon (mpg).\n",
    "print(f\"the mpg for the {car[\"model\"]} is {car[\"map\"]}\")\n",
    "\n",
    "# G. After a successful marketing campaign, the car has been sold! Add a status property equal to \"sold\"\n",
    "\n",
    "car[\"tate\"] = \"sold\"\n",
    "\n",
    "\n",
    "# H. Print the entire car listing. You should see a dictionary similar to the following:\n",
    "print(car)\n",
    "# {\"make\": \"Toyota\", \"model\": \"Camry SE\", \"year\": 2023, \"mileage\": 15000, \"mpg\": 32, \"status\": \"sold\"}"
   ]
  },
  {
   "cell_type": "code",
   "execution_count": 51,
   "id": "6edae6d6",
   "metadata": {},
   "outputs": [
    {
     "name": "stdout",
     "output_type": "stream",
     "text": [
      "['Mercury', 'Venus', 'Earth', 'Mars', 'Jupiter', 'Saturn', 'Uranus', 'Neptune']\n",
      " Mercury, Venus, Earth, Mars, Jupiter, Saturn, Uranus, and Neptune\n",
      "['Hermes', 'Aphrodite', 'Earth', 'Mars', 'Jupiter', 'Saturn', 'Uranus', 'Neptune']\n",
      "Hermes and Aphrodite\n"
     ]
    }
   ],
   "source": [
    "#Question 4\n",
    "# A. Create a list called planets containing the names of the first 8 planets in our solar system\n",
    "planrts = [ \"Mercury\", \"Venus\", \"Earth\", \"Mars\", \"Jupiter\", \"Saturn\", \"Uranus\", \"Neptune\"]\n",
    "# B. Print the following string using list indices to access the specific planets:\n",
    "print(planrts)\n",
    "# \"The first 8 planets in our solar system are Mercury, Venus, Earth, Mars, Jupiter, Saturn, Uranus, and Neptune\"\n",
    "# Use an f-string for string interpolation to make the output clean and readable.\n",
    "print(f\" Mercury, Venus, Earth, Mars, Jupiter, Saturn, Uranus, and Neptune\")\n",
    "# C. Rename two of the planets to reflect their mythological names, such as \"Hermes\" for \"Mercury\" or \"Aphrodite\" for \"Venus\"\n",
    "planrts[0]=\"Hermes\" \n",
    "planrts[1]=\"Aphrodite\"\n",
    "print(planrts)\n",
    "# D. Print the two new planet names using list indices to access them\n",
    "print(f\"{planrts[0]} and {planrts[1]}\")\n",
    "# E. Print the planets list to observe the changes made by printing the entire list itself\n"
   ]
  },
  {
   "cell_type": "code",
   "execution_count": 52,
   "id": "aead5f2a",
   "metadata": {},
   "outputs": [
    {
     "name": "stdout",
     "output_type": "stream",
     "text": [
      "3\n",
      "{'Team': 'Australia', 'Points': 1, 'Games Played': 3, 'Won': 0, 'Lost': 2, 'Drawn': 1, 'GD': -8, 'Form': ['L', 'D', 'L']}\n",
      "{'Stage': {'Group B': [{'Team': 'Brazil', 'Points': 7, 'Games Played': 3, 'Won': 2, 'Lost': 0, 'Drawn': 1, 'GD': 5, 'Form': ['W', 'D', 'W']}, {'Team': 'Spain', 'Points': 5, 'Games Played': 3, 'Won': 1, 'Lost': 0, 'Drawn': 2, 'GD': 3, 'Form': ['D', 'W', 'D']}, {'Team': 'Germany', 'Points': 3, 'Games Played': 3, 'Won': 1, 'Lost': 2, 'Drawn': 0, 'GD': 0, 'Form': ['W', 'L', 'L']}, {'Team': '0', 'Points': 1, 'Games Played': 3, 'Won': 0, 'Lost': 2, 'Drawn': 1, 'GD': -8, 'Form': ['L', 'D', 'L']}]}}\n",
      "{'Team': 'Brazil', 'Points': 10, 'Games Played': 3, 'Won': 2, 'Lost': 0, 'Drawn': 1, 'GD': 5, 'Form': ['W', 'D', 'W']}\n"
     ]
    }
   ],
   "source": [
    "#Question 5\n",
    "# Consider the following dictionary for the FIFA World Cup 2022:\n",
    "world_cup_2022 = {\n",
    "    'Stage': {\n",
    "        'Group B': [\n",
    "            {'Team': 'Brazil', 'Points': 7, 'Games Played': 3, 'Won': 2, 'Lost': 0, 'Drawn': 1, 'GD': 5, 'Form': ['W', 'D', 'W']},\n",
    "            {'Team': 'Spain', 'Points': 5, 'Games Played': 3, 'Won': 1, 'Lost': 0, 'Drawn': 2, 'GD': 3, 'Form': ['D', 'W', 'D']},\n",
    "            {'Team': 'Germany', 'Points': 3, 'Games Played': 3, 'Won': 1, 'Lost': 2, 'Drawn': 0, 'GD': 0, 'Form': ['W', 'L', 'L']},\n",
    "            {'Team': 'Australia', 'Points': 1, 'Games Played': 3, 'Won': 0, 'Lost': 2, 'Drawn': 1, 'GD': -8, 'Form': ['L', 'D', 'L']}\n",
    "        ]\n",
    "    }\n",
    "}\n",
    "\n",
    "# A. Print the number of games played by Spain in Group B\n",
    "print(world_cup_2022['Stage']['Group B'][1]['Games Played'])\n",
    "\n",
    "# B. Remove Australia from Group B as they are disqualified\n",
    "\n",
    "b = world_cup_2022['Stage']['Group B'].pop(3)\n",
    "print(b)\n",
    "\n",
    "# C. Add a new team 'Argentina' to Group B with initial stats\n",
    "new_teem = {'Team': '0', 'Points': 1, 'Games Played': 3, 'Won': 0, 'Lost': 2, 'Drawn': 1, 'GD': -8, 'Form': ['L', 'D', 'L']}\n",
    "world_cup_2022['Stage']['Group B'].append(new_teem)\n",
    "print(world_cup_2022)\n",
    "# D. Update Brazil's points to 10 after a recent victory\n",
    "\n",
    "world_cup_2022['Stage']['Group B'][0]['Points'] =10\n",
    "\n",
    "\n",
    "# E. Print the entire updated Group B to see all changes made\n",
    "\n",
    "print(world_cup_2022['Stage']['Group B'][0])\n"
   ]
  },
  {
   "cell_type": "code",
   "execution_count": 75,
   "id": "5c1328f8",
   "metadata": {},
   "outputs": [],
   "source": [
    "#Question 6\n",
    "#Write a while loop that prints all even numbers from 2 to 10, inclusive.\n",
    "\n",
    "i = 0\n",
    "while i in range(1,16):\n",
    "    print(i)\n",
    "\n",
    "    "
   ]
  },
  {
   "cell_type": "code",
   "execution_count": 68,
   "id": "b2949f72",
   "metadata": {},
   "outputs": [
    {
     "name": "stdout",
     "output_type": "stream",
     "text": [
      "15\n",
      "22\n",
      "17\n",
      "30\n",
      "12\n",
      "19\n"
     ]
    }
   ],
   "source": [
    "#Question 10\n",
    "#Given a list of ages, write a for loop that prints \"adult\" for ages 18 and above, and \"minor\" for ages below 18.\n",
    "ages = [15, 22, 17, 30, 12, 19]\n",
    "\n",
    "\n",
    "for age in ages:\n",
    "    if age >= 18:\n",
    "        print(f\"{age}\")\n",
    "    else:\n",
    "      print(f\"{age}\")\n"
   ]
  },
  {
   "cell_type": "code",
   "execution_count": 82,
   "id": "fdf468eb",
   "metadata": {},
   "outputs": [
    {
     "name": "stdout",
     "output_type": "stream",
     "text": [
      "['John', 'Ali', 'Bob', 'Romeo', 'M']\n"
     ]
    }
   ],
   "source": [
    "#Question 11\n",
    "#Given a list of names, create a new list that prefixes each name with \"Mr. \".\n",
    "names_list = [\"John\", \"Ali\", \"Bob\", \"Romeo\"]\n",
    "\n",
    "names_list.append(\"Mr \"[0])\n",
    "print(names_list)"
   ]
  },
  {
   "cell_type": "code",
   "execution_count": null,
   "id": "286c9e79",
   "metadata": {},
   "outputs": [],
   "source": [
    "#Question 12\n",
    "#Create a list comprehension that generates a list containing squares of numbers from 1 to 5.\n",
    "\n",
    "\n"
   ]
  }
 ],
 "metadata": {
  "kernelspec": {
   "display_name": "Python 3 (ipykernel)",
   "language": "python",
   "name": "python3"
  },
  "language_info": {
   "codemirror_mode": {
    "name": "ipython",
    "version": 3
   },
   "file_extension": ".py",
   "mimetype": "text/x-python",
   "name": "python",
   "nbconvert_exporter": "python",
   "pygments_lexer": "ipython3",
   "version": "3.12.4"
  }
 },
 "nbformat": 4,
 "nbformat_minor": 5
}
