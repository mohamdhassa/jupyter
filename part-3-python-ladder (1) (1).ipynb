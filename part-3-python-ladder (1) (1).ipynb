{
 "cells": [
  {
   "cell_type": "markdown",
   "metadata": {
    "id": "P5LdmDfdSo7Y"
   },
   "source": [
    "<img src=\"http://imgur.com/1ZcRyrc.png\" style=\"float: left; margin: 20px; height: 55px\" />\n",
    "\n",
    "# Python Ladder Challenge - Notebook 3\n",
    "\n",
    "_Author:_ Tim Book"
   ]
  },
  {
   "cell_type": "markdown",
   "metadata": {
    "id": "E_miDCL0So7a"
   },
   "source": [
    "# Climb the Ladder!\n",
    "Our class moves quickly! Sometimes, it feels like we make leaps in logic that are a bit too big. Learn Python _slowly_, by doing many, many examples. Problems in this notebook start out easy and progressively get harder, so that the next rung of the Python ladder is always within reach."
   ]
  },
  {
   "cell_type": "markdown",
   "metadata": {
    "id": "K19fU6mASo7b"
   },
   "source": [
    "# Section VII: Functions\n",
    "In this section, every question gives example(s). You can (but don't need to) name your function accordingly. You _should_ test out the example to make sure your function works properly. If the example doesn't work, your answer is likely incorrect."
   ]
  },
  {
   "cell_type": "markdown",
   "metadata": {
    "id": "P5a5jxDrSo7c"
   },
   "source": [
    "72) Write a function to compute the area of a triangle. You only need the base and height of a triangle to compute its area.\n",
    "\n",
    "* _Example:_ `area_triangle(5, 4) == 10.0`"
   ]
  },
  {
   "cell_type": "code",
   "execution_count": 1,
   "metadata": {
    "id": "oNvL37c1So7d"
   },
   "outputs": [
    {
     "name": "stdout",
     "output_type": "stream",
     "text": [
      "10.0\n"
     ]
    }
   ],
   "source": [
    "def area_triangle(base, height):\n",
    "    area = 0.5 * base * height\n",
    "    return area\n",
    "\n",
    "print(area_triangle(5,4))"
   ]
  },
  {
   "cell_type": "markdown",
   "metadata": {
    "id": "qlJWRiw4So7h"
   },
   "source": [
    "73) Import `pi` from `math` and write a function to compute the area of a circle. You only need the radius of a circle to compute its area.\n",
    "\n",
    "* _Example:_ `area_circle(10) == 314.159...`"
   ]
  },
  {
   "cell_type": "code",
   "execution_count": 2,
   "metadata": {
    "id": "Sr-ju-uoSo7i"
   },
   "outputs": [
    {
     "name": "stdout",
     "output_type": "stream",
     "text": [
      "314.1592653589793\n"
     ]
    }
   ],
   "source": [
    "import math \n",
    "\n",
    "def area_circle(radius):\n",
    "    area = math.pi * radius ** 2\n",
    "    return area\n",
    "print(area_circle(10))"
   ]
  },
  {
   "cell_type": "markdown",
   "metadata": {
    "id": "336JeFm0So7k"
   },
   "source": [
    "74) Write a function that takes in a number `max_num` and returns the sum of the numbers 1 through `max_num` (inclusive).\n",
    "* _Example:_ `sum_n(5) == 1 + 2 + 3 + 4 + 5 == 15`"
   ]
  },
  {
   "cell_type": "code",
   "execution_count": 3,
   "metadata": {
    "id": "GrDY3OFqSo7l"
   },
   "outputs": [
    {
     "name": "stdout",
     "output_type": "stream",
     "text": [
      "66\n"
     ]
    }
   ],
   "source": [
    "def summation(max_num):\n",
    "    total = 0\n",
    "    for num in range(1, max_num + 1):\n",
    "        total += num\n",
    "    return total\n",
    "print(summation(11))"
   ]
  },
  {
   "cell_type": "markdown",
   "metadata": {
    "id": "FC339caRSo7m"
   },
   "source": [
    "75) Write a function that takes in a number `max_num` and returns the sum of the square of the numbers 1 through `max_num` (inclusive).\n",
    "* `sum_squares(5) == 1 + 4 + 9 + 16 + 25 == 55`"
   ]
  },
  {
   "cell_type": "code",
   "execution_count": 4,
   "metadata": {
    "id": "4__Ks6KJSo7n"
   },
   "outputs": [
    {
     "name": "stdout",
     "output_type": "stream",
     "text": [
      "506\n"
     ]
    }
   ],
   "source": [
    "def summation_squared(max_num):\n",
    "    total = 0\n",
    "    for num in range(1, max_num + 1):\n",
    "        total += num ** 2\n",
    "    return total\n",
    "\n",
    "print(summation_squared(11))\n"
   ]
  },
  {
   "cell_type": "markdown",
   "metadata": {
    "id": "dqkciLdNSo7n"
   },
   "source": [
    "76) Write a function that takes a number (an amount in euros) and convert it to U.S. dollars. There are 1.1 U.S. dollars per euro.\n",
    "* `to_dollar(10) == 11.0`"
   ]
  },
  {
   "cell_type": "code",
   "execution_count": 5,
   "metadata": {
    "id": "197mOI09So7n"
   },
   "outputs": [
    {
     "name": "stdout",
     "output_type": "stream",
     "text": [
      "55.0\n"
     ]
    }
   ],
   "source": [
    "def to_dollar(euros):\n",
    "    exchange_rate = 1.1\n",
    "    dollars = round(euros * exchange_rate,2)\n",
    "    return dollars\n",
    "\n",
    "print(to_dollar(50))"
   ]
  },
  {
   "cell_type": "markdown",
   "metadata": {
    "id": "0DxT7gCDSo7o"
   },
   "source": [
    "76) Write a function that takes a list of numbers (amounts in euros), and returns them converted to dollars. Use your answer to the previous question in your answer to this question.\n",
    "* _Example:_ `to_dollar_list([1, 10, 100]) == [1.1, 11.0, 110.0]`\n",
    "* _Note:_ You may get some decimal weirdness here."
   ]
  },
  {
   "cell_type": "code",
   "execution_count": 6,
   "metadata": {
    "id": "iMm8H2bGSo7p"
   },
   "outputs": [
    {
     "name": "stdout",
     "output_type": "stream",
     "text": [
      "[1.1, 11.0, 110.0]\n"
     ]
    }
   ],
   "source": [
    "def to_dollar_list(list):\n",
    "    dollars = [round((n * 1.1),2) for n in list]\n",
    "    return dollars\n",
    "print(to_dollar_list([1,10,100]))"
   ]
  },
  {
   "cell_type": "markdown",
   "metadata": {
    "id": "h3g5fy2PSo7p"
   },
   "source": [
    "77) Write a function that takes a number (a person's height) and returns \"Tall enough\" if they are at least 5 feet (60 inches) or \"Too short\" if they are below 5 feet.\n",
    "* _Example:_ `is_tall(72) == 'Tall enough'`\n",
    "* _Example:_ `is_tall(52) == 'Too short'`"
   ]
  },
  {
   "cell_type": "code",
   "execution_count": 7,
   "metadata": {
    "id": "fOpNk8ACSo7q"
   },
   "outputs": [
    {
     "name": "stdout",
     "output_type": "stream",
     "text": [
      "Tall enough\n"
     ]
    }
   ],
   "source": [
    "def is_tall(height):\n",
    "    if height >= 60:\n",
    "        return \"Tall enough\"\n",
    "    else:\n",
    "        return \"Too short\"\n",
    "print(is_tall(60))"
   ]
  },
  {
   "cell_type": "markdown",
   "metadata": {
    "id": "icqo2bBxSo7q"
   },
   "source": [
    "78) Write a function that takes a list of numbers (peoples' heights) and returns a list of strings \"Tall enough\" or \"Too short\" as in the previous problem. Use your answer to the previous problem to help answer this problem.\n",
    "* _Example:_ `is_tall_list([58, 70, 60]) == ['Too short', 'Tall enough', 'Tall enough']`"
   ]
  },
  {
   "cell_type": "code",
   "execution_count": 8,
   "metadata": {
    "id": "Datwe821So7r"
   },
   "outputs": [
    {
     "name": "stdout",
     "output_type": "stream",
     "text": [
      "['Too short', 'Tall enough', 'Tall enough']\n"
     ]
    }
   ],
   "source": [
    "def is_tall_list(height_list):\n",
    "    results = []\n",
    "    for height in height_list:\n",
    "        if height >= 60:\n",
    "            results.append(\"Tall enough\")\n",
    "        else:\n",
    "            results.append(\"Too short\")\n",
    "    return results\n",
    "\n",
    "print(is_tall_list([58, 70, 60]))"
   ]
  },
  {
   "cell_type": "markdown",
   "metadata": {
    "id": "b_-C030cSo7s"
   },
   "source": [
    "79) Write a function that takes in a numeric grade (0 to 100) and returns the letter grade (no pluses or minuses). In a traditional rubric, that would be as follows:\n",
    "\n",
    "* 90 or above = A\n",
    "* 80 - 89 = B\n",
    "* 70 - 79 = C\n",
    "* 60 - 69 = D\n",
    "* 59 or below = F\n",
    "    \n",
    "    \n",
    "* _Example:_ `letter_grade(85) == 'B'`"
   ]
  },
  {
   "cell_type": "code",
   "execution_count": 9,
   "metadata": {
    "id": "N0ATQ3mqSo7s",
    "tags": []
   },
   "outputs": [
    {
     "name": "stdout",
     "output_type": "stream",
     "text": [
      "B\n"
     ]
    }
   ],
   "source": [
    "def letter_grade(n):\n",
    "    if n >= 90:\n",
    "        return \"A\"\n",
    "    elif n >= 80:\n",
    "        return \"B\"\n",
    "    elif n >= 70:\n",
    "        return \"C\"\n",
    "    elif n >= 60:\n",
    "        return \"D\"\n",
    "    else:\n",
    "        return \"F\"\n",
    "print(letter_grade(85))"
   ]
  },
  {
   "cell_type": "markdown",
   "metadata": {
    "id": "YoIfp0OSSo7u",
    "tags": []
   },
   "source": [
    "80) Write _another_ function that takes a list of numeric grades and returns their letter grades. Use the function written above in your answer.\n",
    "\n",
    "* _Example:_ `letter_grades([85, 62, 90]) == ['B', 'D', 'A']`"
   ]
  },
  {
   "cell_type": "code",
   "execution_count": 10,
   "metadata": {
    "id": "3f_gZVMBSo7u"
   },
   "outputs": [
    {
     "name": "stdout",
     "output_type": "stream",
     "text": [
      "['B', 'D', 'A']\n"
     ]
    }
   ],
   "source": [
    "def letter_grades(grades):\n",
    "    results = []\n",
    "    for n in grades:\n",
    "        if n >= 90:\n",
    "            results.append(\"A\")\n",
    "        elif n >= 80:\n",
    "            results.append(\"B\")\n",
    "        elif n >= 70:\n",
    "            results.append(\"C\")\n",
    "        elif n >= 60:\n",
    "            results.append(\"D\")\n",
    "        else:\n",
    "            results.append(\"F\")\n",
    "    return results\n",
    "\n",
    "print(letter_grades([85, 62, 90]))\n",
    "\n"
   ]
  },
  {
   "cell_type": "markdown",
   "metadata": {
    "id": "tOtUk_YaSo7v"
   },
   "source": [
    "81) Write a function that takes in a string and returns the number of vowels in that string. (No, y is not a vowel).\n",
    "* _Example:_ `vowel_count('General Assembly') == 5`"
   ]
  },
  {
   "cell_type": "code",
   "execution_count": 11,
   "metadata": {
    "id": "T0mohhv_So7v"
   },
   "outputs": [
    {
     "name": "stdout",
     "output_type": "stream",
     "text": [
      "5\n"
     ]
    }
   ],
   "source": [
    "def vowel_count(word):\n",
    "    word=word.lower()\n",
    "    vowels = \"aeiou\"\n",
    "    count = sum(word.count(vowel) for vowel in vowels)\n",
    "    return count\n",
    "print(vowel_count('General Assembly'))"
   ]
  },
  {
   "cell_type": "markdown",
   "metadata": {
    "id": "ehOE5R1NSo7v"
   },
   "source": [
    "82) Write a function that takes in a string and returns that string with its consonants capitalized and vowels lowercased.\n",
    "\n",
    "* _Example:_ `toggle_case('General Assembly') == 'GeNeRaL aSSeMBLY'`"
   ]
  },
  {
   "cell_type": "code",
   "execution_count": 12,
   "metadata": {
    "id": "iUFvHS-dSo7w"
   },
   "outputs": [
    {
     "name": "stdout",
     "output_type": "stream",
     "text": [
      "GeNeRaL aSSeMBLY\n"
     ]
    }
   ],
   "source": [
    "def toggle_case(word):\n",
    "    result = \"\"\n",
    "    word=word.lower()\n",
    "    for char in word:\n",
    "        if char in 'aeiou':\n",
    "            result += char.lower()\n",
    "        else:\n",
    "            result += char.upper()\n",
    "    return result\n",
    "\n",
    "print(toggle_case('General Assembly'))"
   ]
  },
  {
   "cell_type": "markdown",
   "metadata": {
    "id": "CKAVA-x6So7w"
   },
   "source": [
    "83) Write a function that takes in a string and returns that string with its vowels removed.\n",
    "* _Example:_ `disemvowel('Python is my favorite language') == 'Pythn s my fvrt lngg'`"
   ]
  },
  {
   "cell_type": "code",
   "execution_count": 13,
   "metadata": {
    "id": "dxBdYpD9So7w"
   },
   "outputs": [
    {
     "name": "stdout",
     "output_type": "stream",
     "text": [
      "pythn s my fvrt lngg\n"
     ]
    }
   ],
   "source": [
    "def disemvowel(sentence):\n",
    "    results = \"\"\n",
    "    sentence=sentence.lower()\n",
    "    for char in sentence:\n",
    "        if char not in \"aeiou\":\n",
    "            results += char\n",
    "    return results\n",
    "\n",
    "print(disemvowel(\"Python is my favorite language\"))"
   ]
  },
  {
   "cell_type": "markdown",
   "metadata": {
    "id": "48C5SbDoSo7x"
   },
   "source": [
    "84) Write a function that takes in a string and returns that string with its vowels removed _unless it's a one-letter word_, in which case leave the vowel intact. You should use your answer in the previous problem to answer this.\n",
    "* _Example:_ `smart_disemvowel('I love Python programming') == 'I lv Pythn prgrmmng'`"
   ]
  },
  {
   "cell_type": "code",
   "execution_count": 14,
   "metadata": {
    "id": "28YFnXGASo7x"
   },
   "outputs": [
    {
     "name": "stdout",
     "output_type": "stream",
     "text": [
      " lv pythn prgrmmng\n"
     ]
    }
   ],
   "source": [
    "def smart_disemvowel(sentence):\n",
    "    sentence=sentence.lower()\n",
    "    vowels = \"aeiou\"\n",
    "    disemvoweled_sentence = ''.join([char for char in sentence if char not in vowels])\n",
    "    return disemvoweled_sentence\n",
    "\n",
    "print(smart_disemvowel(\"I love Python programming\"))\n",
    "\n"
   ]
  },
  {
   "cell_type": "markdown",
   "metadata": {
    "id": "Ue3A6dBCSo7x"
   },
   "source": [
    "85) Write a function that takes in a string (likely multiple words long) and returns that string with the order of the words reversed.\n",
    "* _Example:_ `word_reverser('Data science is cool') == 'cool is science Data'`"
   ]
  },
  {
   "cell_type": "code",
   "execution_count": 15,
   "metadata": {
    "id": "oGCTI_2KSo7x"
   },
   "outputs": [
    {
     "name": "stdout",
     "output_type": "stream",
     "text": [
      "cool is science Data\n"
     ]
    }
   ],
   "source": [
    "def word_reverser(sentence): \n",
    " \n",
    "    words = sentence.split(' ') \n",
    "    reverse_sentence = ' '.join(reversed(words)) \n",
    "    return reverse_sentence \n",
    "\n",
    "print(word_reverser(\"Data science is cool\"))"
   ]
  },
  {
   "cell_type": "markdown",
   "metadata": {
    "id": "Ost0zGkLSo7y"
   },
   "source": [
    "86) Write a function that takes in a string (likely multiple words long) and returns that string with each word reversed, but with the words in the same order.\n",
    "* _Example:_ `letter_reverser('Data science is cool') == 'ataD ecneics si looc'`"
   ]
  },
  {
   "cell_type": "code",
   "execution_count": 16,
   "metadata": {
    "id": "3z6xX7lgSo7y"
   },
   "outputs": [
    {
     "name": "stdout",
     "output_type": "stream",
     "text": [
      "ataD ecneics si looc\n"
     ]
    }
   ],
   "source": [
    "def letter_reverser(s):\n",
    "    return ' '.join(word[::-1] for word in s.split())\n",
    "\n",
    "example = 'Data science is cool'\n",
    "result = letter_reverser(example)\n",
    "print(result)  \n"
   ]
  },
  {
   "cell_type": "markdown",
   "metadata": {
    "id": "8ftJ2SOZSo7y"
   },
   "source": [
    "87) Write a function that converts a string to \"leet speak\". Leet speak is a made-up internet language which you replace characters with symbols that look like those characters. For example:\n",
    "\n",
    "* _Example:_ `to_leet_speak('i am elite') == '! @M 31!73'`\n",
    "* _Hint:_ Recall what `.get()` does when called on a dictionary? Will this help you with spaces or other non-letter characters?\n",
    "\n",
    "_Note:_ This problem is borrowed from [this](https://www.codewars.com/kata/toleetspeak) wonderful Codewars challenge!\n",
    "\n",
    "Below is the English-to-leet dictionary:"
   ]
  },
  {
   "cell_type": "code",
   "execution_count": 17,
   "metadata": {
    "id": "UEy414tZSo7z"
   },
   "outputs": [],
   "source": [
    "LEET_DICT = {'A' : '@', 'B' : '8', 'C' : '(', 'D' : 'D', 'E' : '3',\n",
    "             'F' : 'F', 'G' : '6', 'H' : '#', 'I' : '!', 'J' : 'J',\n",
    "             'K' : 'K', 'L' : '1', 'M' : 'M', 'N' : 'N', 'O' : '0',\n",
    "             'P' : 'P', 'Q' : 'Q', 'R' : 'R', 'S' : '$', 'T' : '7',\n",
    "             'U' : 'U', 'V' : 'V', 'W' : 'W', 'X' : 'X', 'Y' : 'Y',\n",
    "             'Z' : '2'}"
   ]
  },
  {
   "cell_type": "code",
   "execution_count": 18,
   "metadata": {
    "id": "H-AIJeHdSo7z"
   },
   "outputs": [
    {
     "name": "stdout",
     "output_type": "stream",
     "text": [
      "! @M 31!73\n"
     ]
    }
   ],
   "source": [
    "def to_leet_speak(s):\n",
    "    leet_string = ''.join(LEET_DICT.get(char.upper(), char) for char in s)\n",
    "    return leet_string\n",
    "\n",
    "\n",
    "print(to_leet_speak('i am elite'))"
   ]
  },
  {
   "cell_type": "markdown",
   "metadata": {
    "id": "9mOuHCbbSo7z"
   },
   "source": [
    "87) Write an `is_prime` function that takes in a number and returns a boolean of whether or not that number was prime. (_Hint:_ You already did this in a previous section.)\n",
    "\n",
    "* _Example:_ `is_prime(5) == True`\n",
    "* _Example:_ `is_prime(6) == False`"
   ]
  },
  {
   "cell_type": "code",
   "execution_count": 19,
   "metadata": {
    "id": "49HTouEGSo7z"
   },
   "outputs": [
    {
     "name": "stdout",
     "output_type": "stream",
     "text": [
      "True\n",
      "False\n"
     ]
    }
   ],
   "source": [
    "def is_prime(n):\n",
    "    if n <= 1:\n",
    "        return False\n",
    "    if n == 2:\n",
    "        return True\n",
    "    if n % 2 == 0:\n",
    "        return False\n",
    "    for i in range(3, int(n**0.5) + 1, 2):\n",
    "        if n % i == 0:\n",
    "            return False\n",
    "    return True\n",
    "print(is_prime(5))\n",
    "print(is_prime(6))"
   ]
  },
  {
   "cell_type": "markdown",
   "metadata": {
    "id": "MRsEZJSqSo70"
   },
   "source": [
    "88) Write a function that takes in a number and returns the sum of all primes less than or equal to that number. You'll need your answer to the previous problem to answer this.\n",
    "* _Example:_ `sum_primes(11) == 2 + 3 + 5 + 7 + 11 == 28`\n",
    "* _Bonus:_ Can you do this in one line with a list comprehension?"
   ]
  },
  {
   "cell_type": "code",
   "execution_count": 20,
   "metadata": {
    "id": "poQLgWD5So71"
   },
   "outputs": [
    {
     "name": "stdout",
     "output_type": "stream",
     "text": [
      "28\n"
     ]
    }
   ],
   "source": [
    "def sum_primes(num):\n",
    "    total_sum = 0\n",
    "    for i in range(2, num + 1):\n",
    "        if is_prime(i):\n",
    "            total_sum += i\n",
    "    return total_sum\n",
    "\n",
    "print(sum_primes(11))\n"
   ]
  },
  {
   "cell_type": "markdown",
   "metadata": {
    "id": "bWbKvpaQSo71"
   },
   "source": [
    "# Section VIII: What's next?"
   ]
  },
  {
   "cell_type": "markdown",
   "metadata": {
    "id": "3xcXAXi5So71"
   },
   "source": [
    "## Section VIIIa: Virtual Practice\n",
    "\n",
    "Now that we've got a handle on the basics (and a few problems much more difficult than \"basic\"), what do we do next? If you'd like some more difficult challenges, sign up for [Codewars](https://www.codewars.com)! Codewars is a website in which you are repeatedly given coding challenges that get progressively more difficult. You earn XP and level up, giving you harder and harder problems. Below is an ever-updating list of coding challenges that we recommend. Some of them are Codewars challenges, some from other resources:"
   ]
  },
  {
   "cell_type": "markdown",
   "metadata": {
    "id": "ZeCx1aCYSo71"
   },
   "source": [
    "* [Run-length Encoding](https://www.codewars.com/kata/run-length-encoding-1) (Codewars)\n",
    "* [Permutations](https://leetcode.com/problems/permutations/) (Leetcode)\n",
    "* [\"1-Dimensional Candy Crush\"](https://leetcode.com/discuss/interview-question/380650/bloomberg-phone-screen-candy-crush-1d) (Leetcode)"
   ]
  },
  {
   "cell_type": "markdown",
   "metadata": {
    "id": "fDV6pM4oSo71"
   },
   "source": [
    "## Section VIIIb: Real Interview Challenges\n",
    "Below are interesting challenges stolen directly from real interviews! These challenges have been reported from both GA students and GA instructors. If you find a good one in your future interviews, please come back and tell us! This section of the ladder is ever-updating."
   ]
  },
  {
   "cell_type": "markdown",
   "metadata": {
    "id": "VDkQeDzOSo72"
   },
   "source": [
    "### File Permissions\n",
    "In UNIX-like systems (eg, Mac and Linux), the permissions on certain files are given by short 9-character codes. These characters represent the read (**r**), write (**w**), and execute (**x**) permissions of the owner, assigned group, and all users, respectively. For example, the code\n",
    "\n",
    "`rwx------`\n",
    "\n",
    "means the file owner has all 3 kinds of permissions, but no one else can do anything. Another common code is \n",
    "\n",
    "`rwxr-xr-x`\n",
    "\n",
    "which means that everyone can read and execute the file, but only the owner has permission to write to it (that is, to change it). You can see these permissions yourself by typing `ls -l` from your command line!\n",
    "\n",
    "In order to further save space, these codes are often saved as a 3-digit number, where each digit corresponds to the sum of the values of `r`, `w`, and `x`. `r` is worth 4, `w` is worth 2, `x` is worth 1, and `-` is worth 0. For example, `rwx------` is shortened to the code `700`, and `rwxr-xr-x` is `755`.\n",
    "\n",
    "Your challenge is to write a function that shortens the \"permission string\" to its corresponding \"permission code\" (properly known as its \"octal notation\"). Please note that the output of your function should be an integer, not a string! You can assume the \"permission string\" is always valid.\n",
    "\n",
    "* _Example:_ `permissions_to_octa(\"rwxr-xr-x\") = 755`"
   ]
  },
  {
   "cell_type": "code",
   "execution_count": 21,
   "metadata": {
    "id": "SKIikxA7So72"
   },
   "outputs": [
    {
     "name": "stdout",
     "output_type": "stream",
     "text": [
      "755\n"
     ]
    }
   ],
   "source": [
    "def permissions_to_octal(permission_str):\n",
    "    value_map = {'r': 4, 'w': 2, 'x': 1, '-': 0}\n",
    "    \n",
    "    \n",
    "    owner_perms = permission_str[0:3]\n",
    "    group_perms = permission_str[3:6]\n",
    "    others_perms = permission_str[6:9]\n",
    "    \n",
    "    \n",
    "    owner_octal = sum(value_map[char] for char in owner_perms)\n",
    "    group_octal = sum(value_map[char] for char in group_perms)\n",
    "    others_octal = sum(value_map[char] for char in others_perms)\n",
    "    \n",
    "    \n",
    "    octal_code = owner_octal * 100 + group_octal * 10 + others_octal\n",
    "    \n",
    "    return octal_code\n",
    "\n",
    "print(permissions_to_octal(\"rwxr-xr-x\")) \n"
   ]
  },
  {
   "cell_type": "markdown",
   "metadata": {
    "id": "za4IfnK9So72"
   },
   "source": [
    "### Grocery Bags\n",
    "A large grocery bag can hold 5 items, while a small grocery bag can hold only 1. The numbers of each size bag available may be limited. All items must be placed in a bag and each bag must be filled completely. For example, if we have 16 items, 2 large bags, and 10 small bags, 8 total bags are needed. 2 large bags + 6 small bags = 16 items in 8 bags.\n",
    "\n",
    "Write a function to calculate the **minimum** number of bags needed. If it's not possible to meet these conditions, return `-1`.\n",
    "\n",
    "* `min_bags(16, 2, 10) = 8`\n",
    "* `min_bags(20, 2, 2) = -1`"
   ]
  },
  {
   "cell_type": "code",
   "execution_count": 22,
   "metadata": {
    "id": "7fGxeRmvSo72"
   },
   "outputs": [
    {
     "name": "stdout",
     "output_type": "stream",
     "text": [
      "8\n",
      "-1\n"
     ]
    }
   ],
   "source": [
    "def min_bags(items, large_bags, small_bags):\n",
    "    max_large_items = large_bags * 5\n",
    "    \n",
    "    if items <= max_large_items:\n",
    "        full_large_bags_needed = (items + 4) // 5 \n",
    "        if full_large_bags_needed <= large_bags:\n",
    "            return full_large_bags_needed\n",
    "        else:\n",
    "            return -1\n",
    "    \n",
    "    remaining_items = items - max_large_items\n",
    "    \n",
    "    if remaining_items <= small_bags:\n",
    "        return large_bags + remaining_items\n",
    "    \n",
    "    return -1\n",
    "\n",
    "\n",
    "print(min_bags(16, 2, 10)) \n",
    "print(min_bags(20, 2, 2))  \n"
   ]
  },
  {
   "cell_type": "code",
   "execution_count": null,
   "metadata": {},
   "outputs": [],
   "source": []
  }
 ],
 "metadata": {
  "colab": {
   "provenance": []
  },
  "kernelspec": {
   "display_name": "Python 3 (ipykernel)",
   "language": "python",
   "name": "python3"
  },
  "language_info": {
   "codemirror_mode": {
    "name": "ipython",
    "version": 3
   },
   "file_extension": ".py",
   "mimetype": "text/x-python",
   "name": "python",
   "nbconvert_exporter": "python",
   "pygments_lexer": "ipython3",
   "version": "3.12.4"
  }
 },
 "nbformat": 4,
 "nbformat_minor": 4
}
